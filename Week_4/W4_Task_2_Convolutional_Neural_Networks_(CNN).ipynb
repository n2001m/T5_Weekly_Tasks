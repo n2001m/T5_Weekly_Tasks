{
  "cells": [
    {
      "cell_type": "markdown",
      "id": "69e7471b",
      "metadata": {
        "id": "69e7471b"
      },
      "source": [
        "# Exam on Convolutional Neural Networks (CNN)\n",
        "\n",
        "Welcome to the Convolutional Neural Networks (CNN) practical exam. In this exam, you will work on an image classification task to predict weather the parkinglot is occupied or empty. You are provided with a dataset of parkinglot images, and your task is to build, train, and evaluate a CNN model.\n",
        "\n",
        "---\n",
        "\n",
        "## Dataset Overview\n",
        "### **Dataset:**\n",
        "* Just run the command under the `Load Data` section to get the data downloaded and unzipped or you can access it [here](www.kaggle.com/datasets/khaledzsa/parkinglot-occupation)\n",
        "### **Dataset Name:** ParkingLot Occupation\n",
        "\n",
        "### **Description:**  \n",
        "The dataset contains images of labeld parkinglot images for classification purposes. Each image belongs to one of the 2 classes, representing the label.\n",
        "\n",
        "### **Labels:**\n",
        "* `empty`\n",
        "* `occupied`\n"
      ]
    },
    {
      "cell_type": "markdown",
      "id": "66c6f645",
      "metadata": {
        "id": "66c6f645"
      },
      "source": [
        "## Load Data\n",
        "Run the following command to get the data and unzip it, alternatively you can access the data [here](www.kaggle.com/datasets/khaledzsa/parkinglot-occupation)."
      ]
    },
    {
      "cell_type": "code",
      "execution_count": null,
      "id": "ee08de6b",
      "metadata": {
        "id": "ee08de6b"
      },
      "outputs": [],
      "source": [
        "!kaggle datasets download -d khaledzsa/parkinglot-occupation\n",
        "!unzip parkinglot-occupation.zip"
      ]
    },
    {
      "cell_type": "markdown",
      "id": "9bb9f30e",
      "metadata": {
        "id": "9bb9f30e"
      },
      "source": [
        "## Import Libraries"
      ]
    },
    {
      "cell_type": "code",
      "execution_count": 1,
      "id": "22207f85",
      "metadata": {
        "id": "22207f85"
      },
      "outputs": [],
      "source": [
        "import tensorflow as tf\n",
        "from tensorflow.keras.preprocessing.image import ImageDataGenerator\n",
        "from tensorflow.keras.models import Sequential\n",
        "from tensorflow.keras.layers import Conv2D, MaxPooling2D, Flatten, Dense, Dropout"
      ]
    },
    {
      "cell_type": "markdown",
      "id": "3aa9945d",
      "metadata": {
        "id": "3aa9945d"
      },
      "source": [
        "## Data Preprocessing\n",
        "In this section, preprocess the dataset by:\n",
        "- Loading the images from the file paths.\n",
        "- Resizing the images to a consistent size.\n",
        "- Normalizing pixel values.\n",
        "\n",
        "Add more if needed!"
      ]
    },
    {
      "cell_type": "code",
      "execution_count": 2,
      "id": "72042d3e",
      "metadata": {
        "id": "72042d3e"
      },
      "outputs": [],
      "source": [
        "data_dir_train = '/content/ParkingLot_Occupation/train'"
      ]
    },
    {
      "cell_type": "code",
      "source": [
        "data_dir_test = '/content/ParkingLot_Occupation/test'"
      ],
      "metadata": {
        "id": "kxV4TKI-yv1j"
      },
      "id": "kxV4TKI-yv1j",
      "execution_count": 3,
      "outputs": []
    },
    {
      "cell_type": "markdown",
      "id": "541f3c2b",
      "metadata": {
        "id": "541f3c2b"
      },
      "source": [
        "## Data Splitting\n",
        "In this section, we will split our dataset into three parts:\n",
        "\n",
        "* `train` Folder: Training set (85%).\n",
        "* `train` Folder: Validation set (15%).\n",
        "* `test` Folder: Test set (100%)."
      ]
    },
    {
      "cell_type": "code",
      "source": [
        "datagen = ImageDataGenerator(\n",
        "    rescale=1.0/255.0,\n",
        "    validation_split=0.15)"
      ],
      "metadata": {
        "id": "sqgmhoSUwTzb"
      },
      "id": "sqgmhoSUwTzb",
      "execution_count": 32,
      "outputs": []
    },
    {
      "cell_type": "code",
      "execution_count": 33,
      "id": "cd2cca39",
      "metadata": {
        "id": "cd2cca39",
        "colab": {
          "base_uri": "https://localhost:8080/"
        },
        "outputId": "6159ba37-bc17-4128-899d-18dc7d6fe650"
      },
      "outputs": [
        {
          "output_type": "stream",
          "name": "stdout",
          "text": [
            "Found 1175 images belonging to 2 classes.\n",
            "Found 207 images belonging to 2 classes.\n",
            "Found 344 images belonging to 2 classes.\n"
          ]
        }
      ],
      "source": [
        "train_generator= datagen.flow_from_directory(\n",
        "    data_dir_train,\n",
        "    target_size = (150, 150),\n",
        "    batch_size=32,\n",
        "    class_mode='binary',\n",
        "    subset='training',\n",
        "    shuffle=True\n",
        ")\n",
        "\n",
        "val_generator = datagen.flow_from_directory(\n",
        "    data_dir_train,\n",
        "    target_size=(150, 150),\n",
        "    batch_size=32,\n",
        "    class_mode='binary',\n",
        "    subset='validation',\n",
        "    shuffle = True\n",
        ")\n",
        "\n",
        "test_generator = datagen.flow_from_directory(\n",
        "    data_dir_test,\n",
        "    target_size=(150, 150),\n",
        "    batch_size=32,\n",
        "    class_mode='binary',\n",
        "    shuffle = True\n",
        ")"
      ]
    },
    {
      "cell_type": "markdown",
      "id": "83974596",
      "metadata": {
        "id": "83974596"
      },
      "source": [
        "## Building the CNN Model\n",
        "In this section, define the architecture of the CNN model. The architecture may consist of:\n",
        "- Convolutional layers with max-pooling\n",
        "- Dropout layers\n",
        "- Flatten layer\n",
        "- Dense layers\n",
        "- Output layer\n",
        "\n",
        "Add and remove any of these as needed!"
      ]
    },
    {
      "cell_type": "code",
      "execution_count": 34,
      "id": "977da65a",
      "metadata": {
        "id": "977da65a"
      },
      "outputs": [],
      "source": [
        "model = Sequential()\n",
        "model.add(Conv2D(32, (3, 3), activation='relu', input_shape=(150, 150, 3)))\n",
        "model.add(MaxPooling2D(2,2))\n",
        "\n",
        "#model.add(Dense(512, activation='relu'))\n",
        "\n",
        "model.add(Conv2D(64, (3, 3), activation='relu'))\n",
        "model.add(MaxPooling2D(2,2))\n",
        "\n",
        "#model.add(Dense(512, activation='relu'))\n",
        "#model.add(Dense(512, activation='relu'))\n",
        "\n",
        "model.add(Conv2D(32, (3, 3), activation='relu'))\n",
        "model.add(MaxPooling2D(2,2))\n",
        "\n",
        "model.add(Conv2D(16, (3, 3), activation='relu'))\n",
        "model.add(MaxPooling2D(2,2))\n",
        "\n",
        "model.add(Flatten())\n",
        "#model.add(Dense(512, activation='relu'))\n",
        "model.add(Dropout(0.5))\n",
        "\n",
        "model.add(Dense(1, activation='sigmoid'))"
      ]
    },
    {
      "cell_type": "code",
      "source": [
        "model.compile(optimizer='adam', loss='binary_crossentropy', metrics=['accuracy'])"
      ],
      "metadata": {
        "id": "L8AVDjtPzcZ6"
      },
      "id": "L8AVDjtPzcZ6",
      "execution_count": 35,
      "outputs": []
    },
    {
      "cell_type": "code",
      "source": [
        "model.summary()"
      ],
      "metadata": {
        "colab": {
          "base_uri": "https://localhost:8080/",
          "height": 481
        },
        "id": "aSIK0Z9JzhKH",
        "outputId": "fc61ee1a-c7e6-43a4-884e-bb7e240f655d"
      },
      "id": "aSIK0Z9JzhKH",
      "execution_count": 36,
      "outputs": [
        {
          "output_type": "display_data",
          "data": {
            "text/plain": [
              "\u001b[1mModel: \"sequential_6\"\u001b[0m\n"
            ],
            "text/html": [
              "<pre style=\"white-space:pre;overflow-x:auto;line-height:normal;font-family:Menlo,'DejaVu Sans Mono',consolas,'Courier New',monospace\"><span style=\"font-weight: bold\">Model: \"sequential_6\"</span>\n",
              "</pre>\n"
            ]
          },
          "metadata": {}
        },
        {
          "output_type": "display_data",
          "data": {
            "text/plain": [
              "┏━━━━━━━━━━━━━━━━━━━━━━━━━━━━━━━━━━━━━━┳━━━━━━━━━━━━━━━━━━━━━━━━━━━━━┳━━━━━━━━━━━━━━━━━┓\n",
              "┃\u001b[1m \u001b[0m\u001b[1mLayer (type)                        \u001b[0m\u001b[1m \u001b[0m┃\u001b[1m \u001b[0m\u001b[1mOutput Shape               \u001b[0m\u001b[1m \u001b[0m┃\u001b[1m \u001b[0m\u001b[1m        Param #\u001b[0m\u001b[1m \u001b[0m┃\n",
              "┡━━━━━━━━━━━━━━━━━━━━━━━━━━━━━━━━━━━━━━╇━━━━━━━━━━━━━━━━━━━━━━━━━━━━━╇━━━━━━━━━━━━━━━━━┩\n",
              "│ conv2d_24 (\u001b[38;5;33mConv2D\u001b[0m)                   │ (\u001b[38;5;45mNone\u001b[0m, \u001b[38;5;34m148\u001b[0m, \u001b[38;5;34m148\u001b[0m, \u001b[38;5;34m32\u001b[0m)        │             \u001b[38;5;34m896\u001b[0m │\n",
              "├──────────────────────────────────────┼─────────────────────────────┼─────────────────┤\n",
              "│ max_pooling2d_24 (\u001b[38;5;33mMaxPooling2D\u001b[0m)      │ (\u001b[38;5;45mNone\u001b[0m, \u001b[38;5;34m74\u001b[0m, \u001b[38;5;34m74\u001b[0m, \u001b[38;5;34m32\u001b[0m)          │               \u001b[38;5;34m0\u001b[0m │\n",
              "├──────────────────────────────────────┼─────────────────────────────┼─────────────────┤\n",
              "│ conv2d_25 (\u001b[38;5;33mConv2D\u001b[0m)                   │ (\u001b[38;5;45mNone\u001b[0m, \u001b[38;5;34m72\u001b[0m, \u001b[38;5;34m72\u001b[0m, \u001b[38;5;34m64\u001b[0m)          │          \u001b[38;5;34m18,496\u001b[0m │\n",
              "├──────────────────────────────────────┼─────────────────────────────┼─────────────────┤\n",
              "│ max_pooling2d_25 (\u001b[38;5;33mMaxPooling2D\u001b[0m)      │ (\u001b[38;5;45mNone\u001b[0m, \u001b[38;5;34m36\u001b[0m, \u001b[38;5;34m36\u001b[0m, \u001b[38;5;34m64\u001b[0m)          │               \u001b[38;5;34m0\u001b[0m │\n",
              "├──────────────────────────────────────┼─────────────────────────────┼─────────────────┤\n",
              "│ conv2d_26 (\u001b[38;5;33mConv2D\u001b[0m)                   │ (\u001b[38;5;45mNone\u001b[0m, \u001b[38;5;34m34\u001b[0m, \u001b[38;5;34m34\u001b[0m, \u001b[38;5;34m32\u001b[0m)          │          \u001b[38;5;34m18,464\u001b[0m │\n",
              "├──────────────────────────────────────┼─────────────────────────────┼─────────────────┤\n",
              "│ max_pooling2d_26 (\u001b[38;5;33mMaxPooling2D\u001b[0m)      │ (\u001b[38;5;45mNone\u001b[0m, \u001b[38;5;34m17\u001b[0m, \u001b[38;5;34m17\u001b[0m, \u001b[38;5;34m32\u001b[0m)          │               \u001b[38;5;34m0\u001b[0m │\n",
              "├──────────────────────────────────────┼─────────────────────────────┼─────────────────┤\n",
              "│ conv2d_27 (\u001b[38;5;33mConv2D\u001b[0m)                   │ (\u001b[38;5;45mNone\u001b[0m, \u001b[38;5;34m15\u001b[0m, \u001b[38;5;34m15\u001b[0m, \u001b[38;5;34m16\u001b[0m)          │           \u001b[38;5;34m4,624\u001b[0m │\n",
              "├──────────────────────────────────────┼─────────────────────────────┼─────────────────┤\n",
              "│ max_pooling2d_27 (\u001b[38;5;33mMaxPooling2D\u001b[0m)      │ (\u001b[38;5;45mNone\u001b[0m, \u001b[38;5;34m7\u001b[0m, \u001b[38;5;34m7\u001b[0m, \u001b[38;5;34m16\u001b[0m)            │               \u001b[38;5;34m0\u001b[0m │\n",
              "├──────────────────────────────────────┼─────────────────────────────┼─────────────────┤\n",
              "│ flatten_6 (\u001b[38;5;33mFlatten\u001b[0m)                  │ (\u001b[38;5;45mNone\u001b[0m, \u001b[38;5;34m784\u001b[0m)                 │               \u001b[38;5;34m0\u001b[0m │\n",
              "├──────────────────────────────────────┼─────────────────────────────┼─────────────────┤\n",
              "│ dropout_4 (\u001b[38;5;33mDropout\u001b[0m)                  │ (\u001b[38;5;45mNone\u001b[0m, \u001b[38;5;34m784\u001b[0m)                 │               \u001b[38;5;34m0\u001b[0m │\n",
              "├──────────────────────────────────────┼─────────────────────────────┼─────────────────┤\n",
              "│ dense_6 (\u001b[38;5;33mDense\u001b[0m)                      │ (\u001b[38;5;45mNone\u001b[0m, \u001b[38;5;34m1\u001b[0m)                   │             \u001b[38;5;34m785\u001b[0m │\n",
              "└──────────────────────────────────────┴─────────────────────────────┴─────────────────┘\n"
            ],
            "text/html": [
              "<pre style=\"white-space:pre;overflow-x:auto;line-height:normal;font-family:Menlo,'DejaVu Sans Mono',consolas,'Courier New',monospace\">┏━━━━━━━━━━━━━━━━━━━━━━━━━━━━━━━━━━━━━━┳━━━━━━━━━━━━━━━━━━━━━━━━━━━━━┳━━━━━━━━━━━━━━━━━┓\n",
              "┃<span style=\"font-weight: bold\"> Layer (type)                         </span>┃<span style=\"font-weight: bold\"> Output Shape                </span>┃<span style=\"font-weight: bold\">         Param # </span>┃\n",
              "┡━━━━━━━━━━━━━━━━━━━━━━━━━━━━━━━━━━━━━━╇━━━━━━━━━━━━━━━━━━━━━━━━━━━━━╇━━━━━━━━━━━━━━━━━┩\n",
              "│ conv2d_24 (<span style=\"color: #0087ff; text-decoration-color: #0087ff\">Conv2D</span>)                   │ (<span style=\"color: #00d7ff; text-decoration-color: #00d7ff\">None</span>, <span style=\"color: #00af00; text-decoration-color: #00af00\">148</span>, <span style=\"color: #00af00; text-decoration-color: #00af00\">148</span>, <span style=\"color: #00af00; text-decoration-color: #00af00\">32</span>)        │             <span style=\"color: #00af00; text-decoration-color: #00af00\">896</span> │\n",
              "├──────────────────────────────────────┼─────────────────────────────┼─────────────────┤\n",
              "│ max_pooling2d_24 (<span style=\"color: #0087ff; text-decoration-color: #0087ff\">MaxPooling2D</span>)      │ (<span style=\"color: #00d7ff; text-decoration-color: #00d7ff\">None</span>, <span style=\"color: #00af00; text-decoration-color: #00af00\">74</span>, <span style=\"color: #00af00; text-decoration-color: #00af00\">74</span>, <span style=\"color: #00af00; text-decoration-color: #00af00\">32</span>)          │               <span style=\"color: #00af00; text-decoration-color: #00af00\">0</span> │\n",
              "├──────────────────────────────────────┼─────────────────────────────┼─────────────────┤\n",
              "│ conv2d_25 (<span style=\"color: #0087ff; text-decoration-color: #0087ff\">Conv2D</span>)                   │ (<span style=\"color: #00d7ff; text-decoration-color: #00d7ff\">None</span>, <span style=\"color: #00af00; text-decoration-color: #00af00\">72</span>, <span style=\"color: #00af00; text-decoration-color: #00af00\">72</span>, <span style=\"color: #00af00; text-decoration-color: #00af00\">64</span>)          │          <span style=\"color: #00af00; text-decoration-color: #00af00\">18,496</span> │\n",
              "├──────────────────────────────────────┼─────────────────────────────┼─────────────────┤\n",
              "│ max_pooling2d_25 (<span style=\"color: #0087ff; text-decoration-color: #0087ff\">MaxPooling2D</span>)      │ (<span style=\"color: #00d7ff; text-decoration-color: #00d7ff\">None</span>, <span style=\"color: #00af00; text-decoration-color: #00af00\">36</span>, <span style=\"color: #00af00; text-decoration-color: #00af00\">36</span>, <span style=\"color: #00af00; text-decoration-color: #00af00\">64</span>)          │               <span style=\"color: #00af00; text-decoration-color: #00af00\">0</span> │\n",
              "├──────────────────────────────────────┼─────────────────────────────┼─────────────────┤\n",
              "│ conv2d_26 (<span style=\"color: #0087ff; text-decoration-color: #0087ff\">Conv2D</span>)                   │ (<span style=\"color: #00d7ff; text-decoration-color: #00d7ff\">None</span>, <span style=\"color: #00af00; text-decoration-color: #00af00\">34</span>, <span style=\"color: #00af00; text-decoration-color: #00af00\">34</span>, <span style=\"color: #00af00; text-decoration-color: #00af00\">32</span>)          │          <span style=\"color: #00af00; text-decoration-color: #00af00\">18,464</span> │\n",
              "├──────────────────────────────────────┼─────────────────────────────┼─────────────────┤\n",
              "│ max_pooling2d_26 (<span style=\"color: #0087ff; text-decoration-color: #0087ff\">MaxPooling2D</span>)      │ (<span style=\"color: #00d7ff; text-decoration-color: #00d7ff\">None</span>, <span style=\"color: #00af00; text-decoration-color: #00af00\">17</span>, <span style=\"color: #00af00; text-decoration-color: #00af00\">17</span>, <span style=\"color: #00af00; text-decoration-color: #00af00\">32</span>)          │               <span style=\"color: #00af00; text-decoration-color: #00af00\">0</span> │\n",
              "├──────────────────────────────────────┼─────────────────────────────┼─────────────────┤\n",
              "│ conv2d_27 (<span style=\"color: #0087ff; text-decoration-color: #0087ff\">Conv2D</span>)                   │ (<span style=\"color: #00d7ff; text-decoration-color: #00d7ff\">None</span>, <span style=\"color: #00af00; text-decoration-color: #00af00\">15</span>, <span style=\"color: #00af00; text-decoration-color: #00af00\">15</span>, <span style=\"color: #00af00; text-decoration-color: #00af00\">16</span>)          │           <span style=\"color: #00af00; text-decoration-color: #00af00\">4,624</span> │\n",
              "├──────────────────────────────────────┼─────────────────────────────┼─────────────────┤\n",
              "│ max_pooling2d_27 (<span style=\"color: #0087ff; text-decoration-color: #0087ff\">MaxPooling2D</span>)      │ (<span style=\"color: #00d7ff; text-decoration-color: #00d7ff\">None</span>, <span style=\"color: #00af00; text-decoration-color: #00af00\">7</span>, <span style=\"color: #00af00; text-decoration-color: #00af00\">7</span>, <span style=\"color: #00af00; text-decoration-color: #00af00\">16</span>)            │               <span style=\"color: #00af00; text-decoration-color: #00af00\">0</span> │\n",
              "├──────────────────────────────────────┼─────────────────────────────┼─────────────────┤\n",
              "│ flatten_6 (<span style=\"color: #0087ff; text-decoration-color: #0087ff\">Flatten</span>)                  │ (<span style=\"color: #00d7ff; text-decoration-color: #00d7ff\">None</span>, <span style=\"color: #00af00; text-decoration-color: #00af00\">784</span>)                 │               <span style=\"color: #00af00; text-decoration-color: #00af00\">0</span> │\n",
              "├──────────────────────────────────────┼─────────────────────────────┼─────────────────┤\n",
              "│ dropout_4 (<span style=\"color: #0087ff; text-decoration-color: #0087ff\">Dropout</span>)                  │ (<span style=\"color: #00d7ff; text-decoration-color: #00d7ff\">None</span>, <span style=\"color: #00af00; text-decoration-color: #00af00\">784</span>)                 │               <span style=\"color: #00af00; text-decoration-color: #00af00\">0</span> │\n",
              "├──────────────────────────────────────┼─────────────────────────────┼─────────────────┤\n",
              "│ dense_6 (<span style=\"color: #0087ff; text-decoration-color: #0087ff\">Dense</span>)                      │ (<span style=\"color: #00d7ff; text-decoration-color: #00d7ff\">None</span>, <span style=\"color: #00af00; text-decoration-color: #00af00\">1</span>)                   │             <span style=\"color: #00af00; text-decoration-color: #00af00\">785</span> │\n",
              "└──────────────────────────────────────┴─────────────────────────────┴─────────────────┘\n",
              "</pre>\n"
            ]
          },
          "metadata": {}
        },
        {
          "output_type": "display_data",
          "data": {
            "text/plain": [
              "\u001b[1m Total params: \u001b[0m\u001b[38;5;34m43,265\u001b[0m (169.00 KB)\n"
            ],
            "text/html": [
              "<pre style=\"white-space:pre;overflow-x:auto;line-height:normal;font-family:Menlo,'DejaVu Sans Mono',consolas,'Courier New',monospace\"><span style=\"font-weight: bold\"> Total params: </span><span style=\"color: #00af00; text-decoration-color: #00af00\">43,265</span> (169.00 KB)\n",
              "</pre>\n"
            ]
          },
          "metadata": {}
        },
        {
          "output_type": "display_data",
          "data": {
            "text/plain": [
              "\u001b[1m Trainable params: \u001b[0m\u001b[38;5;34m43,265\u001b[0m (169.00 KB)\n"
            ],
            "text/html": [
              "<pre style=\"white-space:pre;overflow-x:auto;line-height:normal;font-family:Menlo,'DejaVu Sans Mono',consolas,'Courier New',monospace\"><span style=\"font-weight: bold\"> Trainable params: </span><span style=\"color: #00af00; text-decoration-color: #00af00\">43,265</span> (169.00 KB)\n",
              "</pre>\n"
            ]
          },
          "metadata": {}
        },
        {
          "output_type": "display_data",
          "data": {
            "text/plain": [
              "\u001b[1m Non-trainable params: \u001b[0m\u001b[38;5;34m0\u001b[0m (0.00 B)\n"
            ],
            "text/html": [
              "<pre style=\"white-space:pre;overflow-x:auto;line-height:normal;font-family:Menlo,'DejaVu Sans Mono',consolas,'Courier New',monospace\"><span style=\"font-weight: bold\"> Non-trainable params: </span><span style=\"color: #00af00; text-decoration-color: #00af00\">0</span> (0.00 B)\n",
              "</pre>\n"
            ]
          },
          "metadata": {}
        }
      ]
    },
    {
      "cell_type": "markdown",
      "id": "fe1c0940",
      "metadata": {
        "id": "fe1c0940"
      },
      "source": [
        "## Training the Model\n",
        "Train the CNN model using the training data and validate it on the validation set."
      ]
    },
    {
      "cell_type": "code",
      "source": [
        "history = model.fit(\n",
        "    train_generator,\n",
        "    steps_per_epoch=10,\n",
        "    epochs=25,\n",
        "    validation_data=val_generator\n",
        ")"
      ],
      "metadata": {
        "colab": {
          "base_uri": "https://localhost:8080/"
        },
        "id": "5p5ix4JB03ZI",
        "outputId": "45e71902-36d6-48ab-df1f-3cb62b3d1142"
      },
      "id": "5p5ix4JB03ZI",
      "execution_count": 37,
      "outputs": [
        {
          "output_type": "stream",
          "name": "stdout",
          "text": [
            "Epoch 1/25\n"
          ]
        },
        {
          "output_type": "stream",
          "name": "stderr",
          "text": [
            "/usr/local/lib/python3.10/dist-packages/keras/src/trainers/data_adapters/py_dataset_adapter.py:121: UserWarning: Your `PyDataset` class should call `super().__init__(**kwargs)` in its constructor. `**kwargs` can include `workers`, `use_multiprocessing`, `max_queue_size`. Do not pass these arguments to `fit()`, as they will be ignored.\n",
            "  self._warn_if_super_not_called()\n"
          ]
        },
        {
          "output_type": "stream",
          "name": "stdout",
          "text": [
            "\u001b[1m10/10\u001b[0m \u001b[32m━━━━━━━━━━━━━━━━━━━━\u001b[0m\u001b[37m\u001b[0m \u001b[1m20s\u001b[0m 2s/step - accuracy: 0.4776 - loss: 0.6792 - val_accuracy: 0.4686 - val_loss: 0.6341\n",
            "Epoch 2/25\n",
            "\u001b[1m10/10\u001b[0m \u001b[32m━━━━━━━━━━━━━━━━━━━━\u001b[0m\u001b[37m\u001b[0m \u001b[1m17s\u001b[0m 2s/step - accuracy: 0.4661 - loss: 0.6102 - val_accuracy: 0.9034 - val_loss: 0.5273\n",
            "Epoch 3/25\n",
            "\u001b[1m10/10\u001b[0m \u001b[32m━━━━━━━━━━━━━━━━━━━━\u001b[0m\u001b[37m\u001b[0m \u001b[1m16s\u001b[0m 2s/step - accuracy: 0.8376 - loss: 0.4891 - val_accuracy: 0.9082 - val_loss: 0.4157\n",
            "Epoch 4/25\n",
            "\u001b[1m 7/10\u001b[0m \u001b[32m━━━━━━━━━━━━━━\u001b[0m\u001b[37m━━━━━━\u001b[0m \u001b[1m3s\u001b[0m 1s/step - accuracy: 0.9331 - loss: 0.4046"
          ]
        },
        {
          "output_type": "stream",
          "name": "stderr",
          "text": [
            "/usr/lib/python3.10/contextlib.py:153: UserWarning: Your input ran out of data; interrupting training. Make sure that your dataset or generator can generate at least `steps_per_epoch * epochs` batches. You may need to use the `.repeat()` function when building your dataset.\n",
            "  self.gen.throw(typ, value, traceback)\n"
          ]
        },
        {
          "output_type": "stream",
          "name": "stdout",
          "text": [
            "\b\b\b\b\b\b\b\b\b\b\b\b\b\b\b\b\b\b\b\b\b\b\b\b\b\b\b\b\b\b\b\b\b\b\b\b\b\b\b\b\b\b\b\b\b\b\b\b\b\b\b\b\b\b\b\b\b\b\b\b\b\b\b\b\b\b\b\b\b\b\b\r\u001b[1m10/10\u001b[0m \u001b[32m━━━━━━━━━━━━━━━━━━━━\u001b[0m\u001b[37m\u001b[0m \u001b[1m11s\u001b[0m 1s/step - accuracy: 0.9331 - loss: 0.3996 - val_accuracy: 0.9227 - val_loss: 0.3599\n",
            "Epoch 5/25\n",
            "\u001b[1m10/10\u001b[0m \u001b[32m━━━━━━━━━━━━━━━━━━━━\u001b[0m\u001b[37m\u001b[0m \u001b[1m35s\u001b[0m 2s/step - accuracy: 0.9398 - loss: 0.3395 - val_accuracy: 0.9179 - val_loss: 0.2533\n",
            "Epoch 6/25\n",
            "\u001b[1m10/10\u001b[0m \u001b[32m━━━━━━━━━━━━━━━━━━━━\u001b[0m\u001b[37m\u001b[0m \u001b[1m16s\u001b[0m 2s/step - accuracy: 0.8914 - loss: 0.3055 - val_accuracy: 0.8937 - val_loss: 0.2306\n",
            "Epoch 7/25\n",
            "\u001b[1m10/10\u001b[0m \u001b[32m━━━━━━━━━━━━━━━━━━━━\u001b[0m\u001b[37m\u001b[0m \u001b[1m16s\u001b[0m 2s/step - accuracy: 0.9045 - loss: 0.2696 - val_accuracy: 0.9275 - val_loss: 0.2011\n",
            "Epoch 8/25\n",
            "\u001b[1m10/10\u001b[0m \u001b[32m━━━━━━━━━━━━━━━━━━━━\u001b[0m\u001b[37m\u001b[0m \u001b[1m12s\u001b[0m 1s/step - accuracy: 0.9408 - loss: 0.1962 - val_accuracy: 0.9662 - val_loss: 0.1488\n",
            "Epoch 9/25\n",
            "\u001b[1m10/10\u001b[0m \u001b[32m━━━━━━━━━━━━━━━━━━━━\u001b[0m\u001b[37m\u001b[0m \u001b[1m16s\u001b[0m 2s/step - accuracy: 0.9402 - loss: 0.1850 - val_accuracy: 0.9565 - val_loss: 0.1300\n",
            "Epoch 10/25\n",
            "\u001b[1m10/10\u001b[0m \u001b[32m━━━━━━━━━━━━━━━━━━━━\u001b[0m\u001b[37m\u001b[0m \u001b[1m16s\u001b[0m 2s/step - accuracy: 0.9420 - loss: 0.1476 - val_accuracy: 0.9420 - val_loss: 0.1192\n",
            "Epoch 11/25\n",
            "\u001b[1m10/10\u001b[0m \u001b[32m━━━━━━━━━━━━━━━━━━━━\u001b[0m\u001b[37m\u001b[0m \u001b[1m17s\u001b[0m 2s/step - accuracy: 0.9461 - loss: 0.1552 - val_accuracy: 0.9517 - val_loss: 0.1585\n",
            "Epoch 12/25\n",
            "\u001b[1m10/10\u001b[0m \u001b[32m━━━━━━━━━━━━━━━━━━━━\u001b[0m\u001b[37m\u001b[0m \u001b[1m11s\u001b[0m 1s/step - accuracy: 0.9554 - loss: 0.1516 - val_accuracy: 0.9469 - val_loss: 0.1532\n",
            "Epoch 13/25\n",
            "\u001b[1m10/10\u001b[0m \u001b[32m━━━━━━━━━━━━━━━━━━━━\u001b[0m\u001b[37m\u001b[0m \u001b[1m37s\u001b[0m 2s/step - accuracy: 0.9425 - loss: 0.1418 - val_accuracy: 0.9662 - val_loss: 0.1045\n",
            "Epoch 14/25\n",
            "\u001b[1m10/10\u001b[0m \u001b[32m━━━━━━━━━━━━━━━━━━━━\u001b[0m\u001b[37m\u001b[0m \u001b[1m18s\u001b[0m 2s/step - accuracy: 0.9422 - loss: 0.1014 - val_accuracy: 0.9565 - val_loss: 0.1172\n",
            "Epoch 15/25\n",
            "\u001b[1m10/10\u001b[0m \u001b[32m━━━━━━━━━━━━━━━━━━━━\u001b[0m\u001b[37m\u001b[0m \u001b[1m16s\u001b[0m 2s/step - accuracy: 0.9783 - loss: 0.0832 - val_accuracy: 0.9517 - val_loss: 0.1373\n",
            "Epoch 16/25\n",
            "\u001b[1m10/10\u001b[0m \u001b[32m━━━━━━━━━━━━━━━━━━━━\u001b[0m\u001b[37m\u001b[0m \u001b[1m12s\u001b[0m 1s/step - accuracy: 0.9517 - loss: 0.1285 - val_accuracy: 0.9662 - val_loss: 0.0872\n",
            "Epoch 17/25\n",
            "\u001b[1m10/10\u001b[0m \u001b[32m━━━━━━━━━━━━━━━━━━━━\u001b[0m\u001b[37m\u001b[0m \u001b[1m53s\u001b[0m 3s/step - accuracy: 0.9720 - loss: 0.0835 - val_accuracy: 0.9710 - val_loss: 0.0911\n",
            "Epoch 18/25\n",
            "\u001b[1m10/10\u001b[0m \u001b[32m━━━━━━━━━━━━━━━━━━━━\u001b[0m\u001b[37m\u001b[0m \u001b[1m16s\u001b[0m 2s/step - accuracy: 0.9761 - loss: 0.0896 - val_accuracy: 0.9565 - val_loss: 0.1260\n",
            "Epoch 19/25\n",
            "\u001b[1m10/10\u001b[0m \u001b[32m━━━━━━━━━━━━━━━━━━━━\u001b[0m\u001b[37m\u001b[0m \u001b[1m19s\u001b[0m 2s/step - accuracy: 0.9508 - loss: 0.1199 - val_accuracy: 0.9469 - val_loss: 0.1263\n",
            "Epoch 20/25\n",
            "\u001b[1m10/10\u001b[0m \u001b[32m━━━━━━━━━━━━━━━━━━━━\u001b[0m\u001b[37m\u001b[0m \u001b[1m13s\u001b[0m 1s/step - accuracy: 0.9062 - loss: 0.1624 - val_accuracy: 0.9517 - val_loss: 0.1159\n",
            "Epoch 21/25\n",
            "\u001b[1m10/10\u001b[0m \u001b[32m━━━━━━━━━━━━━━━━━━━━\u001b[0m\u001b[37m\u001b[0m \u001b[1m18s\u001b[0m 2s/step - accuracy: 0.9601 - loss: 0.1266 - val_accuracy: 0.9662 - val_loss: 0.1006\n",
            "Epoch 22/25\n",
            "\u001b[1m10/10\u001b[0m \u001b[32m━━━━━━━━━━━━━━━━━━━━\u001b[0m\u001b[37m\u001b[0m \u001b[1m16s\u001b[0m 2s/step - accuracy: 0.9514 - loss: 0.1391 - val_accuracy: 0.9469 - val_loss: 0.1930\n",
            "Epoch 23/25\n",
            "\u001b[1m10/10\u001b[0m \u001b[32m━━━━━━━━━━━━━━━━━━━━\u001b[0m\u001b[37m\u001b[0m \u001b[1m15s\u001b[0m 2s/step - accuracy: 0.9445 - loss: 0.1919 - val_accuracy: 0.9469 - val_loss: 0.2235\n",
            "Epoch 24/25\n",
            "\u001b[1m10/10\u001b[0m \u001b[32m━━━━━━━━━━━━━━━━━━━━\u001b[0m\u001b[37m\u001b[0m \u001b[1m12s\u001b[0m 1s/step - accuracy: 0.9273 - loss: 0.3136 - val_accuracy: 0.8937 - val_loss: 0.2710\n",
            "Epoch 25/25\n",
            "\u001b[1m10/10\u001b[0m \u001b[32m━━━━━━━━━━━━━━━━━━━━\u001b[0m\u001b[37m\u001b[0m \u001b[1m16s\u001b[0m 2s/step - accuracy: 0.9279 - loss: 0.2233 - val_accuracy: 0.9227 - val_loss: 0.1828\n"
          ]
        }
      ]
    },
    {
      "cell_type": "markdown",
      "id": "25ad1b22",
      "metadata": {
        "id": "25ad1b22"
      },
      "source": [
        "## Evaluate the Model\n",
        "Evaluate the performance of the model on the test set."
      ]
    },
    {
      "cell_type": "code",
      "execution_count": 38,
      "id": "eb9ed70f",
      "metadata": {
        "id": "eb9ed70f",
        "colab": {
          "base_uri": "https://localhost:8080/"
        },
        "outputId": "589c9ae5-7992-4449-9afa-4c60ea940ec1"
      },
      "outputs": [
        {
          "output_type": "stream",
          "name": "stdout",
          "text": [
            "\u001b[1m11/11\u001b[0m \u001b[32m━━━━━━━━━━━━━━━━━━━━\u001b[0m\u001b[37m\u001b[0m \u001b[1m6s\u001b[0m 513ms/step - accuracy: 0.9298 - loss: 0.1607\n",
            "Loss:  0.1371803879737854\n",
            "Accuracy:  0.944767415523529\n"
          ]
        }
      ],
      "source": [
        "test_loss, test_accuracy = model.evaluate(test_generator)\n",
        "print('Loss: ',test_loss)\n",
        "print('Accuracy: ',test_accuracy)"
      ]
    },
    {
      "cell_type": "markdown",
      "id": "a37fca33",
      "metadata": {
        "id": "a37fca33"
      },
      "source": [
        "## Make Predictions\n",
        "Use the trained model to make predictions on new or unseen traffic sign images."
      ]
    },
    {
      "cell_type": "markdown",
      "id": "f1ab3608",
      "metadata": {
        "id": "f1ab3608"
      },
      "source": [
        "if you need new, we prepared some data for you [here](www.kaggle.com/datasets/khaledzsa/parkinglot-occupation), or you can simply run the following command to get the data and unzip it.\n",
        "\n",
        "<small>Note: please note that the file contain MetaData to tell you what each image contains <b>THIS IS JUST FOR YOU TO MAKE SURE</b></smmall>"
      ]
    },
    {
      "cell_type": "markdown",
      "id": "8d59c9e4",
      "metadata": {
        "id": "8d59c9e4"
      },
      "source": [
        "If you ran the command above, you should have a file called ParkingLot_Occupation in your current directory. which contains the testing dataset.\n",
        "If you ran the command above <span style='color:red;'>DON'T RUN THIS CELL</span>"
      ]
    },
    {
      "cell_type": "code",
      "execution_count": 39,
      "id": "a7a5c981",
      "metadata": {
        "id": "a7a5c981",
        "colab": {
          "base_uri": "https://localhost:8080/"
        },
        "outputId": "43a2c78d-1108-44d4-e052-e826fd9a943f"
      },
      "outputs": [
        {
          "output_type": "stream",
          "name": "stdout",
          "text": [
            "Dataset URL: https://www.kaggle.com/datasets/khaledzsa/parkinglot-occupation\n",
            "License(s): unknown\n",
            "parkinglot-occupation.zip: Skipping, found more recently modified local copy (use --force to force download)\n",
            "Archive:  parkinglot-occupation.zip\n",
            "replace ParkingLot_Occupation/test/empty/roi_004a880991fb418298519ca2616f3147_empty.jpg? [y]es, [n]o, [A]ll, [N]one, [r]ename: "
          ]
        }
      ],
      "source": [
        "!kaggle datasets download -d khaledzsa/parkinglot-occupation\n",
        "!unzip parkinglot-occupation.zip"
      ]
    },
    {
      "cell_type": "code",
      "execution_count": 40,
      "id": "be46ba26",
      "metadata": {
        "id": "be46ba26",
        "colab": {
          "base_uri": "https://localhost:8080/"
        },
        "outputId": "0174cb3a-4824-4750-b1e5-2379818f1841"
      },
      "outputs": [
        {
          "output_type": "stream",
          "name": "stdout",
          "text": [
            "\u001b[1m11/11\u001b[0m \u001b[32m━━━━━━━━━━━━━━━━━━━━\u001b[0m\u001b[37m\u001b[0m \u001b[1m6s\u001b[0m 501ms/step\n"
          ]
        },
        {
          "output_type": "execute_result",
          "data": {
            "text/plain": [
              "array([[0.20311663],\n",
              "       [0.06324182],\n",
              "       [0.55760205],\n",
              "       [1.        ],\n",
              "       [0.0944768 ],\n",
              "       [0.16776718],\n",
              "       [0.9999989 ],\n",
              "       [1.        ],\n",
              "       [0.99968433],\n",
              "       [0.05929981],\n",
              "       [1.        ],\n",
              "       [0.05532812],\n",
              "       [0.08070267],\n",
              "       [0.15289599],\n",
              "       [0.06274417],\n",
              "       [0.1128158 ],\n",
              "       [0.06561358],\n",
              "       [0.999861  ],\n",
              "       [0.1233691 ],\n",
              "       [0.05068896],\n",
              "       [0.20481075],\n",
              "       [0.0600676 ],\n",
              "       [0.05409781],\n",
              "       [1.        ],\n",
              "       [0.24435313],\n",
              "       [1.        ],\n",
              "       [0.06949368],\n",
              "       [0.08831541],\n",
              "       [0.06590664],\n",
              "       [0.06238477],\n",
              "       [0.07990506],\n",
              "       [0.04049311],\n",
              "       [0.06152027],\n",
              "       [1.        ],\n",
              "       [1.        ],\n",
              "       [0.05843728],\n",
              "       [0.79099876],\n",
              "       [1.        ],\n",
              "       [1.        ],\n",
              "       [0.04385704],\n",
              "       [1.        ],\n",
              "       [1.        ],\n",
              "       [0.05376175],\n",
              "       [0.04911286],\n",
              "       [0.05175191],\n",
              "       [0.9998898 ],\n",
              "       [0.05346652],\n",
              "       [0.08981305],\n",
              "       [0.20985824],\n",
              "       [0.35633346],\n",
              "       [1.        ],\n",
              "       [1.        ],\n",
              "       [0.13106984],\n",
              "       [0.11527146],\n",
              "       [0.99008346],\n",
              "       [0.05818059],\n",
              "       [0.21033393],\n",
              "       [0.9412785 ],\n",
              "       [0.05204568],\n",
              "       [1.        ],\n",
              "       [0.11882069],\n",
              "       [1.        ],\n",
              "       [0.09482481],\n",
              "       [1.        ],\n",
              "       [0.04592233],\n",
              "       [0.06989595],\n",
              "       [1.        ],\n",
              "       [0.2536138 ],\n",
              "       [1.        ],\n",
              "       [0.03917769],\n",
              "       [0.9999561 ],\n",
              "       [0.09834336],\n",
              "       [1.        ],\n",
              "       [0.05496283],\n",
              "       [0.09781612],\n",
              "       [0.07041368],\n",
              "       [0.08494723],\n",
              "       [0.04686715],\n",
              "       [0.05525253],\n",
              "       [0.09871198],\n",
              "       [0.07021882],\n",
              "       [0.05813862],\n",
              "       [0.06407173],\n",
              "       [0.9999914 ],\n",
              "       [0.06181209],\n",
              "       [0.08541074],\n",
              "       [0.05458086],\n",
              "       [0.09132303],\n",
              "       [0.21484043],\n",
              "       [0.07474566],\n",
              "       [1.        ],\n",
              "       [0.9999999 ],\n",
              "       [0.18401228],\n",
              "       [0.08610236],\n",
              "       [0.06876849],\n",
              "       [0.99849147],\n",
              "       [0.9999778 ],\n",
              "       [0.06851421],\n",
              "       [0.18576667],\n",
              "       [0.3626772 ],\n",
              "       [0.04833225],\n",
              "       [0.06443762],\n",
              "       [0.06013866],\n",
              "       [1.        ],\n",
              "       [1.        ],\n",
              "       [1.        ],\n",
              "       [0.01169108],\n",
              "       [0.9999722 ],\n",
              "       [0.14530075],\n",
              "       [0.09041329],\n",
              "       [1.        ],\n",
              "       [0.15697502],\n",
              "       [0.07147334],\n",
              "       [1.        ],\n",
              "       [0.05302381],\n",
              "       [0.05853244],\n",
              "       [0.07177985],\n",
              "       [0.0567865 ],\n",
              "       [1.        ],\n",
              "       [0.99736434],\n",
              "       [0.03721638],\n",
              "       [0.21241151],\n",
              "       [0.2645696 ],\n",
              "       [0.9779094 ],\n",
              "       [1.        ],\n",
              "       [1.        ],\n",
              "       [0.9999999 ],\n",
              "       [1.        ],\n",
              "       [0.10498306],\n",
              "       [0.10498446],\n",
              "       [1.        ],\n",
              "       [1.        ],\n",
              "       [0.05571217],\n",
              "       [1.        ],\n",
              "       [1.        ],\n",
              "       [1.        ],\n",
              "       [0.20622614],\n",
              "       [0.15935178],\n",
              "       [0.9998981 ],\n",
              "       [0.05475646],\n",
              "       [0.08115242],\n",
              "       [0.03421577],\n",
              "       [1.        ],\n",
              "       [0.05470363],\n",
              "       [1.        ],\n",
              "       [1.        ],\n",
              "       [0.2148187 ],\n",
              "       [1.        ],\n",
              "       [0.99948233],\n",
              "       [1.        ],\n",
              "       [0.04594406],\n",
              "       [0.3724936 ],\n",
              "       [0.9999991 ],\n",
              "       [0.0738291 ],\n",
              "       [1.        ],\n",
              "       [1.        ],\n",
              "       [0.09871624],\n",
              "       [0.07286749],\n",
              "       [1.        ],\n",
              "       [0.04690044],\n",
              "       [0.06118817],\n",
              "       [0.0752277 ],\n",
              "       [0.0550787 ],\n",
              "       [1.        ],\n",
              "       [0.9999996 ],\n",
              "       [1.        ],\n",
              "       [0.05830695],\n",
              "       [1.        ],\n",
              "       [0.11562639],\n",
              "       [1.        ],\n",
              "       [0.05257563],\n",
              "       [1.        ],\n",
              "       [0.04345999],\n",
              "       [1.        ],\n",
              "       [0.99991274],\n",
              "       [0.07425945],\n",
              "       [0.11532551],\n",
              "       [0.99999785],\n",
              "       [1.        ],\n",
              "       [0.5200539 ],\n",
              "       [0.06374819],\n",
              "       [0.2524762 ],\n",
              "       [1.        ],\n",
              "       [1.        ],\n",
              "       [0.12184422],\n",
              "       [0.06134507],\n",
              "       [0.06450165],\n",
              "       [1.        ],\n",
              "       [0.05602212],\n",
              "       [0.45491117],\n",
              "       [0.07446295],\n",
              "       [0.06878562],\n",
              "       [0.07995103],\n",
              "       [0.13192612],\n",
              "       [0.99846244],\n",
              "       [0.06213882],\n",
              "       [1.        ],\n",
              "       [0.07277849],\n",
              "       [0.06350036],\n",
              "       [1.        ],\n",
              "       [0.29696867],\n",
              "       [0.05201346],\n",
              "       [0.03616462],\n",
              "       [1.        ],\n",
              "       [0.06892032],\n",
              "       [1.        ],\n",
              "       [0.06841448],\n",
              "       [0.12229262],\n",
              "       [1.        ],\n",
              "       [0.99999946],\n",
              "       [0.0781857 ],\n",
              "       [0.14444503],\n",
              "       [0.12240437],\n",
              "       [1.        ],\n",
              "       [0.99706066],\n",
              "       [1.        ],\n",
              "       [1.        ],\n",
              "       [0.07973531],\n",
              "       [0.09517068],\n",
              "       [1.        ],\n",
              "       [0.08753125],\n",
              "       [1.        ],\n",
              "       [1.        ],\n",
              "       [0.03732881],\n",
              "       [0.99679214],\n",
              "       [0.0791198 ],\n",
              "       [0.99830675],\n",
              "       [0.01596598],\n",
              "       [0.2170596 ],\n",
              "       [0.07823457],\n",
              "       [0.26908112],\n",
              "       [0.08773241],\n",
              "       [0.07877745],\n",
              "       [0.04469634],\n",
              "       [1.        ],\n",
              "       [0.09312885],\n",
              "       [1.        ],\n",
              "       [0.08830761],\n",
              "       [1.        ],\n",
              "       [0.12951083],\n",
              "       [0.17201574],\n",
              "       [0.05750784],\n",
              "       [0.10929416],\n",
              "       [0.10881723],\n",
              "       [0.05890278],\n",
              "       [1.        ],\n",
              "       [1.        ],\n",
              "       [0.08107918],\n",
              "       [0.0686942 ],\n",
              "       [1.        ],\n",
              "       [0.4857618 ],\n",
              "       [1.        ],\n",
              "       [0.21245207],\n",
              "       [0.11872281],\n",
              "       [0.07589109],\n",
              "       [1.        ],\n",
              "       [1.        ],\n",
              "       [0.10469688],\n",
              "       [0.43899262],\n",
              "       [0.01163654],\n",
              "       [0.91783226],\n",
              "       [0.1066955 ],\n",
              "       [0.9999932 ],\n",
              "       [0.60224074],\n",
              "       [1.        ],\n",
              "       [0.17908378],\n",
              "       [0.06840767],\n",
              "       [1.        ],\n",
              "       [0.09239613],\n",
              "       [0.99317616],\n",
              "       [1.        ],\n",
              "       [1.        ],\n",
              "       [1.        ],\n",
              "       [0.11442256],\n",
              "       [0.02651001],\n",
              "       [0.08264709],\n",
              "       [1.        ],\n",
              "       [1.        ],\n",
              "       [0.9999997 ],\n",
              "       [0.06037478],\n",
              "       [1.        ],\n",
              "       [0.12699962],\n",
              "       [1.        ],\n",
              "       [1.        ],\n",
              "       [1.        ],\n",
              "       [0.0796461 ],\n",
              "       [1.        ],\n",
              "       [0.10274691],\n",
              "       [1.        ],\n",
              "       [1.        ],\n",
              "       [0.38531834],\n",
              "       [0.06210254],\n",
              "       [0.9999996 ],\n",
              "       [0.02829433],\n",
              "       [0.07400567],\n",
              "       [1.        ],\n",
              "       [0.04819481],\n",
              "       [0.14030299],\n",
              "       [1.        ],\n",
              "       [0.05194055],\n",
              "       [1.        ],\n",
              "       [1.        ],\n",
              "       [1.        ],\n",
              "       [0.07780072],\n",
              "       [0.99998945],\n",
              "       [1.        ],\n",
              "       [1.        ],\n",
              "       [0.99976474],\n",
              "       [0.11976966],\n",
              "       [0.08938786],\n",
              "       [0.1514001 ],\n",
              "       [0.08084676],\n",
              "       [1.        ],\n",
              "       [0.09056752],\n",
              "       [1.        ],\n",
              "       [0.12576193],\n",
              "       [0.08315174],\n",
              "       [0.1165399 ],\n",
              "       [1.        ],\n",
              "       [1.        ],\n",
              "       [0.04766918],\n",
              "       [0.11902493],\n",
              "       [0.6300672 ],\n",
              "       [0.06236916],\n",
              "       [0.99999946],\n",
              "       [1.        ],\n",
              "       [0.03634443],\n",
              "       [0.0568132 ],\n",
              "       [0.08419142],\n",
              "       [0.07142724],\n",
              "       [1.        ],\n",
              "       [1.        ],\n",
              "       [0.2078062 ],\n",
              "       [0.48014858],\n",
              "       [0.08862665],\n",
              "       [0.69392294],\n",
              "       [0.25511992],\n",
              "       [0.1083035 ],\n",
              "       [0.04811677],\n",
              "       [1.        ],\n",
              "       [1.        ],\n",
              "       [0.0756356 ],\n",
              "       [1.        ],\n",
              "       [0.81106997]], dtype=float32)"
            ]
          },
          "metadata": {},
          "execution_count": 40
        }
      ],
      "source": [
        "predictions = model.predict(test_generator)\n",
        "predictions"
      ]
    },
    {
      "cell_type": "markdown",
      "id": "8430600d",
      "metadata": {
        "id": "8430600d"
      },
      "source": [
        "## Model Performance Visualization\n",
        "Visualize performance metrics such as accuracy and loss over the epochs."
      ]
    },
    {
      "cell_type": "code",
      "execution_count": 41,
      "id": "50624cfe",
      "metadata": {
        "id": "50624cfe",
        "colab": {
          "base_uri": "https://localhost:8080/",
          "height": 452
        },
        "outputId": "bcb9bbfe-096c-44c6-f8ff-230f71624e25"
      },
      "outputs": [
        {
          "output_type": "display_data",
          "data": {
            "text/plain": [
              "<Figure size 640x480 with 1 Axes>"
            ],
            "image/png": "[encoded data removed]"
          },
          "metadata": {}
        }
      ],
      "source": [
        "import matplotlib.pyplot as plt\n",
        "\n",
        "plt.plot(history.history['accuracy'])\n",
        "plt.plot(history.history['val_accuracy'])\n",
        "plt.title('model accuracy')\n",
        "plt.legend(['train', 'test'], loc='upper left')\n",
        "plt.show()"
      ]
    },
    {
      "cell_type": "code",
      "source": [
        "import matplotlib.pyplot as plt\n",
        "\n",
        "plt.plot(history.history['loss'])\n",
        "plt.plot(history.history['val_loss'])\n",
        "plt.title('model loss')\n",
        "plt.legend(['train', 'test'], loc='upper left')\n",
        "plt.show()"
      ],
      "metadata": {
        "colab": {
          "base_uri": "https://localhost:8080/",
          "height": 452
        },
        "id": "K-Bvkx3S-7r-",
        "outputId": "29e230fa-e1e4-4ac2-80cc-9acb75debf83"
      },
      "id": "K-Bvkx3S-7r-",
      "execution_count": 43,
      "outputs": [
        {
          "output_type": "display_data",
          "data": {
            "text/plain": [
              "<Figure size 640x480 with 1 Axes>"
            ],
            "image/png": "[encoded data removed]"
          },
          "metadata": {}
        }
      ]
    },
    {
      "cell_type": "markdown",
      "id": "8d4f3348",
      "metadata": {
        "id": "8d4f3348"
      },
      "source": [
        "## Save the Model\n",
        "Save the trained CNN model for submission."
      ]
    },
    {
      "cell_type": "code",
      "execution_count": 42,
      "id": "fe6b2df0",
      "metadata": {
        "id": "fe6b2df0",
        "colab": {
          "base_uri": "https://localhost:8080/"
        },
        "outputId": "090da471-bcdf-4570-e6bf-4ff7f2eca360"
      },
      "outputs": [
        {
          "output_type": "stream",
          "name": "stderr",
          "text": [
            "WARNING:absl:You are saving your model as an HDF5 file via `model.save()` or `keras.saving.save_model(model)`. This file format is considered legacy. We recommend using instead the native Keras format, e.g. `model.save('my_model.keras')` or `keras.saving.save_model(model, 'my_model.keras')`. \n"
          ]
        }
      ],
      "source": [
        "model.save('model.h5')"
      ]
    },
    {
      "cell_type": "markdown",
      "id": "ed90995f",
      "metadata": {
        "id": "ed90995f"
      },
      "source": [
        "## Project Questions:\n",
        "\n",
        "1. **Data Preprocessing**: Explain why you chose your specific data preprocessing techniques (e.g., resizing images, normalization, data augmentation). How do these preprocessing steps improve the performance of your CNN model?\n",
        "2. **Model Architecture**: Describe the architecture of your CNN model (e.g., number of convolutional layers, kernel sizes, pooling layers). Why did you choose this structure, and how do you expect each layer to contribute to feature extraction?\n",
        "3. **Activation Functions**: Justify your choice of activation functions. How do they influence the training and output of your CNN?\n",
        "4. **Training Process**: Discuss your choice of batch size, number of epochs, and optimizer. How did these decisions impact the training process and the convergence of the model?\n",
        "5. **Loss Function and Metrics**: Explain why you chose the specific loss function and evaluation metrics for this classification task. How do they align with the goal of correctly classifying traffic signs?\n",
        "6. **Regularization Techniques**: If you used regularization methods like dropout or batch normalization, explain why you implemented them and how they helped prevent overfitting in your model.\n",
        "7. **Model Evaluation**: Justify the method you used to evaluate your model's performance on the test set. Why did you select these evaluation techniques, and what insights did they provide about your model's accuracy and generalization ability?\n",
        "8. **Model Visualization**: Explain the significance of the performance visualizations (e.g., accuracy and loss curves). What do they tell you about your model's training process and its ability to generalize?\n",
        "9. **Overfitting and Underfitting**: Analyze whether the model encountered any overfitting or underfitting during training. What strategies could you implement to mitigate these issues?"
      ]
    },
    {
      "cell_type": "markdown",
      "id": "02e7f114",
      "metadata": {
        "id": "02e7f114"
      },
      "source": [
        "### Answer Here:"
      ]
    },
    {
      "cell_type": "markdown",
      "source": [
        "1.   For the data preprocessing i applied resize, i also rescaled the photos.\n",
        "2.  For the model architecture i add 4 Convolutional layers with max-pooling then i added a flatten layer with dropout and the output layer was the only dense layer it was the best model after some trials.\n",
        "3.   For the Activation Functions i used relu in the input and hidden layers but sigmoid in the output function since my data is binary\n",
        "4.   For the batch size i set it as 32 it is good for photos, but the epochs i set it as 25 i think if i applied early stopping i would've got a better result.\n",
        "5.   I chose accuracy since it is a classification model, likewise for the loss function.\n",
        "6.   I applied dropout before the output layer.\n",
        "7.   I evaluated it in the test data using accuracy and by analysing the loss\n",
        "8.   The accuracy and loss curves proves that the model is not overfitted or underfitted.\n",
        "9. On one of the triels i encountered overfitting because i Initialised the val data incorrectly but it was also an effect of the multiple dense layers i put first.\n",
        "\n",
        "\n",
        "\n",
        "\n",
        "\n",
        "\n",
        "\n"
      ],
      "metadata": {
        "id": "zJ47L706_ETu"
      },
      "id": "zJ47L706_ETu"
    }
  ],
  "metadata": {
    "language_info": {
      "name": "python"
    },
    "colab": {
      "provenance": []
    },
    "kernelspec": {
      "name": "python3",
      "display_name": "Python 3"
    }
  },
  "nbformat": 4,
  "nbformat_minor": 5
}